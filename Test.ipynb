{
 "cells": [
  {
   "cell_type": "code",
   "execution_count": 3,
   "id": "7366dc99-b495-4ebd-8922-fe17d14018a0",
   "metadata": {},
   "outputs": [
    {
     "name": "stdout",
     "output_type": "stream",
     "text": [
      "3\n"
     ]
    }
   ],
   "source": [
    "print (1+2)"
   ]
  },
  {
   "cell_type": "code",
   "execution_count": 4,
   "id": "621ddd7e-0424-4c83-a904-e20103f9945f",
   "metadata": {},
   "outputs": [
    {
     "ename": "SyntaxError",
     "evalue": "invalid syntax (2262742763.py, line 1)",
     "output_type": "error",
     "traceback": [
      "\u001b[1;36m  Cell \u001b[1;32mIn[4], line 1\u001b[1;36m\u001b[0m\n\u001b[1;33m    This is **Markdown Sample1**\u001b[0m\n\u001b[1;37m            ^\u001b[0m\n\u001b[1;31mSyntaxError\u001b[0m\u001b[1;31m:\u001b[0m invalid syntax\n"
     ]
    }
   ],
   "source": [
    "This is **Markdown Sample1**"
   ]
  },
  {
   "cell_type": "code",
   "execution_count": 5,
   "id": "d5a8329f-5cd2-41c7-bc81-8b2ac9683b25",
   "metadata": {},
   "outputs": [
    {
     "ename": "SyntaxError",
     "evalue": "expected ':' (899615006.py, line 1)",
     "output_type": "error",
     "traceback": [
      "\u001b[1;36m  Cell \u001b[1;32mIn[5], line 1\u001b[1;36m\u001b[0m\n\u001b[1;33m    def add(n, y)\u001b[0m\n\u001b[1;37m                 ^\u001b[0m\n\u001b[1;31mSyntaxError\u001b[0m\u001b[1;31m:\u001b[0m expected ':'\n"
     ]
    }
   ],
   "source": [
    "def add(n, y)\n",
    "if n == 0\n",
    "return n\n",
    "end\n",
    "n + y\n",
    "end\n",
    "puts add(0, 3)"
   ]
  },
  {
   "cell_type": "code",
   "execution_count": 6,
   "id": "c954e717-7a7c-4604-a9a7-4b9f3ffb8b11",
   "metadata": {},
   "outputs": [
    {
     "name": "stdout",
     "output_type": "stream",
     "text": [
      "750\n"
     ]
    }
   ],
   "source": [
    "print(250 + 100 + 400)"
   ]
  },
  {
   "cell_type": "code",
   "execution_count": 8,
   "id": "1446aca3-1c98-4784-a773-7d36f06e0383",
   "metadata": {},
   "outputs": [
    {
     "name": "stdout",
     "output_type": "stream",
     "text": [
      "16\n"
     ]
    }
   ],
   "source": [
    "print(50//3)"
   ]
  },
  {
   "cell_type": "code",
   "execution_count": 9,
   "id": "ef415265-6462-435d-ab35-094cc1e48194",
   "metadata": {},
   "outputs": [
    {
     "name": "stdout",
     "output_type": "stream",
     "text": [
      "2.0\n"
     ]
    }
   ],
   "source": [
    "print(float(2))"
   ]
  },
  {
   "cell_type": "code",
   "execution_count": 10,
   "id": "235087fc-8fa6-43d0-a4d8-a9dc6825f5d9",
   "metadata": {},
   "outputs": [
    {
     "name": "stdout",
     "output_type": "stream",
     "text": [
      "6\n",
      "6\n"
     ]
    }
   ],
   "source": [
    "x = 1\n",
    "x = x + 5\n",
    "print(x)\n",
    "\n",
    "x = 1\n",
    "x += 5\n",
    "print(x)"
   ]
  },
  {
   "cell_type": "code",
   "execution_count": 11,
   "id": "68e7b225-da06-4c24-8244-13ba5c93799d",
   "metadata": {},
   "outputs": [
    {
     "name": "stdout",
     "output_type": "stream",
     "text": [
      "learn python\n",
      "Hello\n"
     ]
    }
   ],
   "source": [
    "print(\"learn python\")\n",
    "print(\"Hello\")\n"
   ]
  },
  {
   "cell_type": "code",
   "execution_count": 12,
   "id": "a0d3c74a-71fc-488e-8bc7-2985840ddc95",
   "metadata": {},
   "outputs": [
    {
     "name": "stdout",
     "output_type": "stream",
     "text": [
      "The average temperature for each month is 6 degrees in January and 7 degrees in February!!\n"
     ]
    }
   ],
   "source": [
    "january_average_temperature = 6\n",
    "february_average_temperature = 7\n",
    "print(\"The average temperature for each month is {} degrees in January and {} degrees in February!!\".format(january_average_temperature, february_average_temperature))"
   ]
  },
  {
   "cell_type": "code",
   "execution_count": 13,
   "id": "6082a70c-7e57-4caa-87f2-f62f7209d20a",
   "metadata": {},
   "outputs": [
    {
     "ename": "NameError",
     "evalue": "name 'user_ids' is not defined",
     "output_type": "error",
     "traceback": [
      "\u001b[1;31m---------------------------------------------------------------------------\u001b[0m",
      "\u001b[1;31mNameError\u001b[0m                                 Traceback (most recent call last)",
      "Cell \u001b[1;32mIn[13], line 2\u001b[0m\n\u001b[0;32m      1\u001b[0m \u001b[38;5;28mlist\u001b[39m \u001b[38;5;241m=\u001b[39m [\u001b[38;5;241m0\u001b[39m, \u001b[38;5;241m1\u001b[39m, \u001b[38;5;241m2\u001b[39m]\n\u001b[1;32m----> 2\u001b[0m \u001b[38;5;28mprint\u001b[39m(\u001b[38;5;28mlist\u001b[39m(\u001b[43muser_ids\u001b[49m))\n",
      "\u001b[1;31mNameError\u001b[0m: name 'user_ids' is not defined"
     ]
    }
   ],
   "source": [
    "list = [0, 1, 2]\n",
    "print(list(user_ids))"
   ]
  },
  {
   "cell_type": "code",
   "execution_count": 14,
   "id": "04bb728a-3902-47cc-b4d1-650d3ed513c1",
   "metadata": {},
   "outputs": [
    {
     "name": "stdout",
     "output_type": "stream",
     "text": [
      "Aliceは22歳!!\n"
     ]
    }
   ],
   "source": [
    "student_name = \"Alice\"\n",
    "student_age = 22\n",
    "if student_age < 20:\n",
    "  print(\"{}は20歳未満!!\".format(student_name))\n",
    "elif student_age == 21:\n",
    "  print(\"{}は21歳!!\".format(student_name))\n",
    "elif student_age == 22:\n",
    "  print(\"{}は22歳!!\".format(student_name))\n",
    "else:\n",
    "  print(\"{}は23歳以上!!\".format(student_name))"
   ]
  },
  {
   "cell_type": "code",
   "execution_count": 15,
   "id": "b009dd90-d021-48f2-937e-37fc4f2ff81b",
   "metadata": {},
   "outputs": [
    {
     "name": "stdout",
     "output_type": "stream",
     "text": [
      "0\n",
      "1\n",
      "2\n",
      "3\n",
      "4\n",
      "5\n",
      "6\n",
      "7\n",
      "8\n",
      "9\n"
     ]
    }
   ],
   "source": [
    "numbers = [0, 1, 2, 3, 4, 5, 6, 7, 8, 9]\n",
    "for number in numbers:\n",
    "  print(number)"
   ]
  },
  {
   "cell_type": "code",
   "execution_count": 16,
   "id": "42fa9231-b58f-4ab9-92b8-95a5007939bb",
   "metadata": {},
   "outputs": [
    {
     "name": "stdout",
     "output_type": "stream",
     "text": [
      "P\n",
      "y\n",
      "t\n",
      "h\n",
      "o\n",
      "n\n"
     ]
    }
   ],
   "source": [
    "text = \"Python\"\n",
    "for character in text:\n",
    "  print(character)"
   ]
  },
  {
   "cell_type": "code",
   "execution_count": 17,
   "id": "eccc3c7b-20d1-4f7e-ad8d-460f3e1d275e",
   "metadata": {},
   "outputs": [
    {
     "name": "stdout",
     "output_type": "stream",
     "text": [
      "1 The average monthly temperature is 6 degrees!!\n",
      "2 The average monthly temperature is 7 degrees!!\n",
      "3 The average monthly temperature is 9 degrees!!\n",
      "4 The average monthly temperature is 15 degrees!!\n",
      "5 The average monthly temperature is 20 degrees!!\n",
      "6 The average monthly temperature is 22 degrees!!\n",
      "7 The average monthly temperature is 27 degrees!!\n",
      "8 The average monthly temperature is 26 degrees!!\n",
      "9 The average monthly temperature is 23 degrees!!\n",
      "10 The average monthly temperature is 17 degrees!!\n",
      "11 The average monthly temperature is 12 degrees!!\n",
      "12 The average monthly temperature is 7 degrees!!\n"
     ]
    }
   ],
   "source": [
    "monthly_average_temperatures = [6, 7, 9, 15, 20, 22, 27, 26, 23, 17, 12, 7]\n",
    "for i in range(len(monthly_average_temperatures)):\n",
    "  print(\"{} The average monthly temperature is {} degrees!!\".format(i+1, monthly_average_temperatures[i]))"
   ]
  },
  {
   "cell_type": "code",
   "execution_count": 19,
   "id": "308c50c9-bd56-4bbd-8991-fb4804dc8cdd",
   "metadata": {},
   "outputs": [
    {
     "name": "stdout",
     "output_type": "stream",
     "text": [
      "Hello, Test calling function!\n"
     ]
    }
   ],
   "source": [
    "def print_hello_something(something):\n",
    "  print(\"Hello, {}!\".format(something))\n",
    "\n",
    "print_hello_something(\"Test calling function\")"
   ]
  },
  {
   "cell_type": "code",
   "execution_count": 20,
   "id": "16cdca81-6ceb-4aa7-939b-bd56a06e1aed",
   "metadata": {},
   "outputs": [
    {
     "name": "stdout",
     "output_type": "stream",
     "text": [
      "Hello, Python!!\n"
     ]
    }
   ],
   "source": [
    "def hello_something(something, end = \"!\"):\n",
    "  return \"Hello, {}{}\".format(something, end)\n",
    "\n",
    "print(hello_something(\"Python\", end = \"!!\"))"
   ]
  },
  {
   "cell_type": "code",
   "execution_count": 21,
   "id": "3f63d4fa-41f6-49fb-90af-05398699b2ea",
   "metadata": {},
   "outputs": [
    {
     "ename": "ZeroDivisionError",
     "evalue": "division by zero",
     "output_type": "error",
     "traceback": [
      "\u001b[1;31m---------------------------------------------------------------------------\u001b[0m",
      "\u001b[1;31mZeroDivisionError\u001b[0m                         Traceback (most recent call last)",
      "Cell \u001b[1;32mIn[21], line 1\u001b[0m\n\u001b[1;32m----> 1\u001b[0m \u001b[38;5;28mprint\u001b[39m (\u001b[38;5;241;43m10\u001b[39;49m\u001b[43m \u001b[49m\u001b[38;5;241;43m/\u001b[39;49m\u001b[43m \u001b[49m\u001b[38;5;241;43m0\u001b[39;49m)\n",
      "\u001b[1;31mZeroDivisionError\u001b[0m: division by zero"
     ]
    }
   ],
   "source": [
    "print (10 / 0)"
   ]
  },
  {
   "cell_type": "code",
   "execution_count": 22,
   "id": "835f977b-80b2-4c6e-b11d-6a7c27c9abae",
   "metadata": {},
   "outputs": [
    {
     "ename": "SyntaxError",
     "evalue": "invalid non-printable character U+200B (1771612458.py, line 1)",
     "output_type": "error",
     "traceback": [
      "\u001b[1;36m  Cell \u001b[1;32mIn[22], line 1\u001b[1;36m\u001b[0m\n\u001b[1;33m    print​ ​(type​ ​(42)) ​ ​# (A)​ ​print​ ​(type​ ​(​ ​\"john\")) ​ ​# (B)​ ​print​ ​(type​ ​(​ ​\"42\")) ​ ​# (C)​ ​print​ ​(type​ ​(4.2​ ​/​ ​3)) ​ ​# (D)\u001b[0m\n\u001b[1;37m         ^\u001b[0m\n\u001b[1;31mSyntaxError\u001b[0m\u001b[1;31m:\u001b[0m invalid non-printable character U+200B\n"
     ]
    }
   ],
   "source": [
    "print​ ​(type​ ​(42)) ​ ​# (A)​ ​print​ ​(type​ ​(​ ​\"john\")) ​ ​# (B)​ ​print​ ​(type​ ​(​ ​\"42\")) ​ ​# (C)​ ​print​ ​(type​ ​(4.2​ ​/​ ​3)) ​ ​# (D)"
   ]
  },
  {
   "cell_type": "code",
   "execution_count": 24,
   "id": "92ebe769-76be-436a-b93f-08943d85f78a",
   "metadata": {},
   "outputs": [
    {
     "name": "stdout",
     "output_type": "stream",
     "text": [
      "<class 'int'>\n"
     ]
    }
   ],
   "source": [
    "print(type(42))"
   ]
  },
  {
   "cell_type": "code",
   "execution_count": 25,
   "id": "41337a0c-c68a-4f59-9429-5aecdd3fbdf1",
   "metadata": {},
   "outputs": [
    {
     "ename": "SyntaxError",
     "evalue": "invalid non-printable character U+200B (1088926171.py, line 1)",
     "output_type": "error",
     "traceback": [
      "\u001b[1;36m  Cell \u001b[1;32mIn[25], line 1\u001b[1;36m\u001b[0m\n\u001b[1;33m    print​ ​(type​ ​(4.2​ ​/​ ​3)) ​\u001b[0m\n\u001b[1;37m         ^\u001b[0m\n\u001b[1;31mSyntaxError\u001b[0m\u001b[1;31m:\u001b[0m invalid non-printable character U+200B\n"
     ]
    }
   ],
   "source": [
    "print​ ​(type​ ​(4.2​ ​/​ ​3)) ​ "
   ]
  },
  {
   "cell_type": "code",
   "execution_count": 26,
   "id": "e86a382b-c95d-427e-953e-c6e05e557e53",
   "metadata": {},
   "outputs": [
    {
     "name": "stdout",
     "output_type": "stream",
     "text": [
      "<class 'float'>\n"
     ]
    }
   ],
   "source": [
    "print (type(4.2/3))\n",
    "       "
   ]
  },
  {
   "cell_type": "code",
   "execution_count": null,
   "id": "7fa5913d-1d75-452a-8b2d-0620f8691a2f",
   "metadata": {},
   "outputs": [],
   "source": []
  }
 ],
 "metadata": {
  "kernelspec": {
   "display_name": "Python 3 (ipykernel)",
   "language": "python",
   "name": "python3"
  },
  "language_info": {
   "codemirror_mode": {
    "name": "ipython",
    "version": 3
   },
   "file_extension": ".py",
   "mimetype": "text/x-python",
   "name": "python",
   "nbconvert_exporter": "python",
   "pygments_lexer": "ipython3",
   "version": "3.10.11"
  }
 },
 "nbformat": 4,
 "nbformat_minor": 5
}
